{
 "cells": [
  {
   "cell_type": "code",
   "execution_count": null,
   "id": "ad191f73",
   "metadata": {},
   "outputs": [
    {
     "name": "stdout",
     "output_type": "stream",
     "text": [
      "Libraries imported.\n"
     ]
    }
   ],
   "source": [
    "import os, json, random, warnings\n",
    "import numpy as np\n",
    "import pandas as pd\n",
    "import matplotlib.pyplot as plt\n",
    "import seaborn as sns\n",
    "from sklearn.model_selection import train_test_split, StratifiedKFold, cross_val_score\n",
    "from sklearn.linear_model import LogisticRegression\n",
    "from sklearn.ensemble import RandomForestClassifier\n",
    "from sklearn.metrics import (classification_report, confusion_matrix, precision_score, recall_score,\n",
    "                             f1_score, roc_auc_score, average_precision_score, precision_recall_curve)\n",
    "from imblearn.under_sampling import RandomUnderSampler\n",
    "from imblearn.over_sampling import RandomOverSampler, SMOTE\n",
    "from imblearn.pipeline import Pipeline as ImbPipeline\n",
    "from scipy.stats import mannwhitneyu\n",
    "from statsmodels.stats.multitest import multipletests\n",
    "import joblib\n",
    "\n",
    "RANDOM_STATE = 42\n",
    "np.random.seed(RANDOM_STATE)\n",
    "random.seed(RANDOM_STATE)\n",
    "\n",
    "print('Libraries imported.')"
   ]
  },
  {
   "cell_type": "code",
   "execution_count": null,
   "id": "05d40c52",
   "metadata": {},
   "outputs": [
    {
     "data": {
      "text/html": [
       "<div>\n",
       "<style scoped>\n",
       "    .dataframe tbody tr th:only-of-type {\n",
       "        vertical-align: middle;\n",
       "    }\n",
       "\n",
       "    .dataframe tbody tr th {\n",
       "        vertical-align: top;\n",
       "    }\n",
       "\n",
       "    .dataframe thead th {\n",
       "        text-align: right;\n",
       "    }\n",
       "</style>\n",
       "<table border=\"1\" class=\"dataframe\">\n",
       "  <thead>\n",
       "    <tr style=\"text-align: right;\">\n",
       "      <th></th>\n",
       "      <th>Time</th>\n",
       "      <th>V1</th>\n",
       "      <th>V2</th>\n",
       "      <th>V3</th>\n",
       "      <th>V4</th>\n",
       "      <th>V5</th>\n",
       "      <th>V6</th>\n",
       "      <th>V7</th>\n",
       "      <th>V8</th>\n",
       "      <th>V9</th>\n",
       "      <th>...</th>\n",
       "      <th>V21</th>\n",
       "      <th>V22</th>\n",
       "      <th>V23</th>\n",
       "      <th>V24</th>\n",
       "      <th>V25</th>\n",
       "      <th>V26</th>\n",
       "      <th>V27</th>\n",
       "      <th>V28</th>\n",
       "      <th>Amount</th>\n",
       "      <th>Class</th>\n",
       "    </tr>\n",
       "  </thead>\n",
       "  <tbody>\n",
       "    <tr>\n",
       "      <th>0</th>\n",
       "      <td>0.0</td>\n",
       "      <td>-1.359807</td>\n",
       "      <td>-0.072781</td>\n",
       "      <td>2.536347</td>\n",
       "      <td>1.378155</td>\n",
       "      <td>-0.338321</td>\n",
       "      <td>0.462388</td>\n",
       "      <td>0.239599</td>\n",
       "      <td>0.098698</td>\n",
       "      <td>0.363787</td>\n",
       "      <td>...</td>\n",
       "      <td>-0.018307</td>\n",
       "      <td>0.277838</td>\n",
       "      <td>-0.110474</td>\n",
       "      <td>0.066928</td>\n",
       "      <td>0.128539</td>\n",
       "      <td>-0.189115</td>\n",
       "      <td>0.133558</td>\n",
       "      <td>-0.021053</td>\n",
       "      <td>149.62</td>\n",
       "      <td>0</td>\n",
       "    </tr>\n",
       "    <tr>\n",
       "      <th>1</th>\n",
       "      <td>0.0</td>\n",
       "      <td>1.191857</td>\n",
       "      <td>0.266151</td>\n",
       "      <td>0.166480</td>\n",
       "      <td>0.448154</td>\n",
       "      <td>0.060018</td>\n",
       "      <td>-0.082361</td>\n",
       "      <td>-0.078803</td>\n",
       "      <td>0.085102</td>\n",
       "      <td>-0.255425</td>\n",
       "      <td>...</td>\n",
       "      <td>-0.225775</td>\n",
       "      <td>-0.638672</td>\n",
       "      <td>0.101288</td>\n",
       "      <td>-0.339846</td>\n",
       "      <td>0.167170</td>\n",
       "      <td>0.125895</td>\n",
       "      <td>-0.008983</td>\n",
       "      <td>0.014724</td>\n",
       "      <td>2.69</td>\n",
       "      <td>0</td>\n",
       "    </tr>\n",
       "    <tr>\n",
       "      <th>2</th>\n",
       "      <td>1.0</td>\n",
       "      <td>-1.358354</td>\n",
       "      <td>-1.340163</td>\n",
       "      <td>1.773209</td>\n",
       "      <td>0.379780</td>\n",
       "      <td>-0.503198</td>\n",
       "      <td>1.800499</td>\n",
       "      <td>0.791461</td>\n",
       "      <td>0.247676</td>\n",
       "      <td>-1.514654</td>\n",
       "      <td>...</td>\n",
       "      <td>0.247998</td>\n",
       "      <td>0.771679</td>\n",
       "      <td>0.909412</td>\n",
       "      <td>-0.689281</td>\n",
       "      <td>-0.327642</td>\n",
       "      <td>-0.139097</td>\n",
       "      <td>-0.055353</td>\n",
       "      <td>-0.059752</td>\n",
       "      <td>378.66</td>\n",
       "      <td>0</td>\n",
       "    </tr>\n",
       "    <tr>\n",
       "      <th>3</th>\n",
       "      <td>1.0</td>\n",
       "      <td>-0.966272</td>\n",
       "      <td>-0.185226</td>\n",
       "      <td>1.792993</td>\n",
       "      <td>-0.863291</td>\n",
       "      <td>-0.010309</td>\n",
       "      <td>1.247203</td>\n",
       "      <td>0.237609</td>\n",
       "      <td>0.377436</td>\n",
       "      <td>-1.387024</td>\n",
       "      <td>...</td>\n",
       "      <td>-0.108300</td>\n",
       "      <td>0.005274</td>\n",
       "      <td>-0.190321</td>\n",
       "      <td>-1.175575</td>\n",
       "      <td>0.647376</td>\n",
       "      <td>-0.221929</td>\n",
       "      <td>0.062723</td>\n",
       "      <td>0.061458</td>\n",
       "      <td>123.50</td>\n",
       "      <td>0</td>\n",
       "    </tr>\n",
       "    <tr>\n",
       "      <th>4</th>\n",
       "      <td>2.0</td>\n",
       "      <td>-1.158233</td>\n",
       "      <td>0.877737</td>\n",
       "      <td>1.548718</td>\n",
       "      <td>0.403034</td>\n",
       "      <td>-0.407193</td>\n",
       "      <td>0.095921</td>\n",
       "      <td>0.592941</td>\n",
       "      <td>-0.270533</td>\n",
       "      <td>0.817739</td>\n",
       "      <td>...</td>\n",
       "      <td>-0.009431</td>\n",
       "      <td>0.798278</td>\n",
       "      <td>-0.137458</td>\n",
       "      <td>0.141267</td>\n",
       "      <td>-0.206010</td>\n",
       "      <td>0.502292</td>\n",
       "      <td>0.219422</td>\n",
       "      <td>0.215153</td>\n",
       "      <td>69.99</td>\n",
       "      <td>0</td>\n",
       "    </tr>\n",
       "  </tbody>\n",
       "</table>\n",
       "<p>5 rows × 31 columns</p>\n",
       "</div>"
      ],
      "text/plain": [
       "   Time        V1        V2        V3        V4        V5        V6        V7  \\\n",
       "0   0.0 -1.359807 -0.072781  2.536347  1.378155 -0.338321  0.462388  0.239599   \n",
       "1   0.0  1.191857  0.266151  0.166480  0.448154  0.060018 -0.082361 -0.078803   \n",
       "2   1.0 -1.358354 -1.340163  1.773209  0.379780 -0.503198  1.800499  0.791461   \n",
       "3   1.0 -0.966272 -0.185226  1.792993 -0.863291 -0.010309  1.247203  0.237609   \n",
       "4   2.0 -1.158233  0.877737  1.548718  0.403034 -0.407193  0.095921  0.592941   \n",
       "\n",
       "         V8        V9  ...       V21       V22       V23       V24       V25  \\\n",
       "0  0.098698  0.363787  ... -0.018307  0.277838 -0.110474  0.066928  0.128539   \n",
       "1  0.085102 -0.255425  ... -0.225775 -0.638672  0.101288 -0.339846  0.167170   \n",
       "2  0.247676 -1.514654  ...  0.247998  0.771679  0.909412 -0.689281 -0.327642   \n",
       "3  0.377436 -1.387024  ... -0.108300  0.005274 -0.190321 -1.175575  0.647376   \n",
       "4 -0.270533  0.817739  ... -0.009431  0.798278 -0.137458  0.141267 -0.206010   \n",
       "\n",
       "        V26       V27       V28  Amount  Class  \n",
       "0 -0.189115  0.133558 -0.021053  149.62      0  \n",
       "1  0.125895 -0.008983  0.014724    2.69      0  \n",
       "2 -0.139097 -0.055353 -0.059752  378.66      0  \n",
       "3 -0.221929  0.062723  0.061458  123.50      0  \n",
       "4  0.502292  0.219422  0.215153   69.99      0  \n",
       "\n",
       "[5 rows x 31 columns]"
      ]
     },
     "metadata": {},
     "output_type": "display_data"
    },
    {
     "name": "stdout",
     "output_type": "stream",
     "text": [
      "Shape: (284807, 31)\n"
     ]
    }
   ],
   "source": [
    "DATA_PATH = 'creditcard.csv'  \n",
    "\n",
    "df = pd.read_csv(DATA_PATH, low_memory=False)\n",
    "display(df.head())\n",
    "print('Shape:', df.shape)"
   ]
  },
  {
   "cell_type": "markdown",
   "id": "f62ecf5d",
   "metadata": {},
   "source": [
    "expected 284,807 rows and 31 columns (Time, V1..V28, Amount, Class). Head preview validates structure."
   ]
  },
  {
   "cell_type": "code",
   "execution_count": null,
   "id": "65ca2c8c",
   "metadata": {},
   "outputs": [
    {
     "name": "stdout",
     "output_type": "stream",
     "text": [
      "<class 'pandas.core.frame.DataFrame'>\n",
      "RangeIndex: 284807 entries, 0 to 284806\n",
      "Data columns (total 31 columns):\n",
      " #   Column  Non-Null Count   Dtype  \n",
      "---  ------  --------------   -----  \n",
      " 0   Time    284807 non-null  float64\n",
      " 1   V1      284807 non-null  float64\n",
      " 2   V2      284807 non-null  float64\n",
      " 3   V3      284807 non-null  float64\n",
      " 4   V4      284807 non-null  float64\n",
      " 5   V5      284807 non-null  float64\n",
      " 6   V6      284807 non-null  float64\n",
      " 7   V7      284807 non-null  float64\n",
      " 8   V8      284807 non-null  float64\n",
      " 9   V9      284807 non-null  float64\n",
      " 10  V10     284807 non-null  float64\n",
      " 11  V11     284807 non-null  float64\n",
      " 12  V12     284807 non-null  float64\n",
      " 13  V13     284807 non-null  float64\n",
      " 14  V14     284807 non-null  float64\n",
      " 15  V15     284807 non-null  float64\n",
      " 16  V16     284807 non-null  float64\n",
      " 17  V17     284807 non-null  float64\n",
      " 18  V18     284807 non-null  float64\n",
      " 19  V19     284807 non-null  float64\n",
      " 20  V20     284807 non-null  float64\n",
      " 21  V21     284807 non-null  float64\n",
      " 22  V22     284807 non-null  float64\n",
      " 23  V23     284807 non-null  float64\n",
      " 24  V24     284807 non-null  float64\n",
      " 25  V25     284807 non-null  float64\n",
      " 26  V26     284807 non-null  float64\n",
      " 27  V27     284807 non-null  float64\n",
      " 28  V28     284807 non-null  float64\n",
      " 29  Amount  284807 non-null  float64\n",
      " 30  Class   284807 non-null  int64  \n",
      "dtypes: float64(30), int64(1)\n",
      "memory usage: 67.4 MB\n"
     ]
    },
    {
     "data": {
      "text/plain": [
       "None"
      ]
     },
     "metadata": {},
     "output_type": "display_data"
    },
    {
     "data": {
      "text/html": [
       "<div>\n",
       "<style scoped>\n",
       "    .dataframe tbody tr th:only-of-type {\n",
       "        vertical-align: middle;\n",
       "    }\n",
       "\n",
       "    .dataframe tbody tr th {\n",
       "        vertical-align: top;\n",
       "    }\n",
       "\n",
       "    .dataframe thead th {\n",
       "        text-align: right;\n",
       "    }\n",
       "</style>\n",
       "<table border=\"1\" class=\"dataframe\">\n",
       "  <thead>\n",
       "    <tr style=\"text-align: right;\">\n",
       "      <th></th>\n",
       "      <th>count</th>\n",
       "      <th>mean</th>\n",
       "      <th>std</th>\n",
       "      <th>min</th>\n",
       "      <th>25%</th>\n",
       "      <th>50%</th>\n",
       "      <th>75%</th>\n",
       "      <th>max</th>\n",
       "    </tr>\n",
       "  </thead>\n",
       "  <tbody>\n",
       "    <tr>\n",
       "      <th>Time</th>\n",
       "      <td>284807.0</td>\n",
       "      <td>9.481386e+04</td>\n",
       "      <td>47488.145955</td>\n",
       "      <td>0.000000</td>\n",
       "      <td>54201.500000</td>\n",
       "      <td>84692.000000</td>\n",
       "      <td>139320.500000</td>\n",
       "      <td>172792.000000</td>\n",
       "    </tr>\n",
       "    <tr>\n",
       "      <th>V1</th>\n",
       "      <td>284807.0</td>\n",
       "      <td>1.168375e-15</td>\n",
       "      <td>1.958696</td>\n",
       "      <td>-56.407510</td>\n",
       "      <td>-0.920373</td>\n",
       "      <td>0.018109</td>\n",
       "      <td>1.315642</td>\n",
       "      <td>2.454930</td>\n",
       "    </tr>\n",
       "    <tr>\n",
       "      <th>V2</th>\n",
       "      <td>284807.0</td>\n",
       "      <td>3.416908e-16</td>\n",
       "      <td>1.651309</td>\n",
       "      <td>-72.715728</td>\n",
       "      <td>-0.598550</td>\n",
       "      <td>0.065486</td>\n",
       "      <td>0.803724</td>\n",
       "      <td>22.057729</td>\n",
       "    </tr>\n",
       "    <tr>\n",
       "      <th>V3</th>\n",
       "      <td>284807.0</td>\n",
       "      <td>-1.379537e-15</td>\n",
       "      <td>1.516255</td>\n",
       "      <td>-48.325589</td>\n",
       "      <td>-0.890365</td>\n",
       "      <td>0.179846</td>\n",
       "      <td>1.027196</td>\n",
       "      <td>9.382558</td>\n",
       "    </tr>\n",
       "    <tr>\n",
       "      <th>V4</th>\n",
       "      <td>284807.0</td>\n",
       "      <td>2.074095e-15</td>\n",
       "      <td>1.415869</td>\n",
       "      <td>-5.683171</td>\n",
       "      <td>-0.848640</td>\n",
       "      <td>-0.019847</td>\n",
       "      <td>0.743341</td>\n",
       "      <td>16.875344</td>\n",
       "    </tr>\n",
       "  </tbody>\n",
       "</table>\n",
       "</div>"
      ],
      "text/plain": [
       "         count          mean           std        min           25%  \\\n",
       "Time  284807.0  9.481386e+04  47488.145955   0.000000  54201.500000   \n",
       "V1    284807.0  1.168375e-15      1.958696 -56.407510     -0.920373   \n",
       "V2    284807.0  3.416908e-16      1.651309 -72.715728     -0.598550   \n",
       "V3    284807.0 -1.379537e-15      1.516255 -48.325589     -0.890365   \n",
       "V4    284807.0  2.074095e-15      1.415869  -5.683171     -0.848640   \n",
       "\n",
       "               50%            75%            max  \n",
       "Time  84692.000000  139320.500000  172792.000000  \n",
       "V1        0.018109       1.315642       2.454930  \n",
       "V2        0.065486       0.803724      22.057729  \n",
       "V3        0.179846       1.027196       9.382558  \n",
       "V4       -0.019847       0.743341      16.875344  "
      ]
     },
     "metadata": {},
     "output_type": "display_data"
    },
    {
     "name": "stdout",
     "output_type": "stream",
     "text": [
      "Dtypes summary:\n",
      "float64    30\n",
      "int64       1\n",
      "Name: count, dtype: int64\n",
      "\n",
      "Class distribution:\n",
      " Class\n",
      "0    284315\n",
      "1       492\n",
      "Name: count, dtype: int64\n"
     ]
    }
   ],
   "source": [
    "# Quick overview \n",
    "if 'df' in globals():\n",
    "    display(df.info())\n",
    "    display(df.describe().T.head())\n",
    "    print('Dtypes summary:')\n",
    "    print(df.dtypes.value_counts())\n",
    "    print('\\nClass distribution:\\n', df['Class'].value_counts())\n",
    "else:\n",
    "    print('DataFrame df not loaded yet.')"
   ]
  },
  {
   "cell_type": "markdown",
   "id": "54b1bdca",
   "metadata": {},
   "source": [
    "Class imbalance visible with fraud minority count."
   ]
  },
  {
   "cell_type": "markdown",
   "id": "8fb08d5d",
   "metadata": {},
   "source": [
    "## Section 4: Missing Values & Data Quality Checks"
   ]
  },
  {
   "cell_type": "code",
   "execution_count": null,
   "id": "ef718f81",
   "metadata": {},
   "outputs": [
    {
     "name": "stdout",
     "output_type": "stream",
     "text": [
      "Missing values (top 10):\n",
      "Series([], dtype: int64)\n",
      "\n",
      "Duplicate rows: 1081\n",
      "\n",
      "Duplicate rows: 1081\n",
      "Constant columns: None\n",
      "Constant columns: None\n"
     ]
    }
   ],
   "source": [
    "# Data quality checks\n",
    "missing = df.isna().sum()\n",
    "print('Missing values (top 10):')\n",
    "print(missing[missing>0].sort_values(ascending=False).head(10))\n",
    "dup_count = df.duplicated().sum()\n",
    "print(f'\\nDuplicate rows: {dup_count}')\n",
    "nunique = df.nunique()\n",
    "constant_cols = nunique[nunique==1].index.tolist()\n",
    "print(f'Constant columns: {constant_cols if constant_cols else \"None\"}')"
   ]
  },
  {
   "cell_type": "markdown",
   "id": "c5790111",
   "metadata": {},
   "source": [
    "no missing values and no duplicates so gooddddd\n",
    "and duplicate rows count is very less, i think we can leave it as it is as it might be showing inter-relation and importance of those values"
   ]
  },
  {
   "cell_type": "code",
   "execution_count": null,
   "id": "b4f23015",
   "metadata": {},
   "outputs": [
    {
     "data": {
      "image/png": "[encoded data removed]",
      "text/plain": [
       "<Figure size 1200x400 with 2 Axes>"
      ]
     },
     "metadata": {},
     "output_type": "display_data"
    },
    {
     "data": {
      "image/png": "[encoded data removed]",
      "text/plain": [
       "<Figure size 600x400 with 1 Axes>"
      ]
     },
     "metadata": {},
     "output_type": "display_data"
    }
   ],
   "source": [
    "# distributions for Time and Amount, and overlay fraud vs non-fraud for Amount\n",
    "fig, axes = plt.subplots(1, 2, figsize=(12,4))\n",
    "sns.histplot(df['Time'], bins=50, ax=axes[0], kde=False)\n",
    "axes[0].set_title('Time Distribution')\n",
    "sns.histplot(df['Amount'], bins=50, ax=axes[1], kde=False)\n",
    "axes[1].set_title('Amount Distribution')\n",
    "plt.tight_layout()\n",
    "plt.show()\n",
    "\n",
    "# Fraud vs non-fraud Amount (log scale)\n",
    "plt.figure(figsize=(6,4))\n",
    "sns.kdeplot(data=df, x='Amount', hue='Class', common_norm=False, fill=True, log_scale=True)\n",
    "plt.title('Amount (Log Scale) by Class')\n",
    "plt.show()"
   ]
  },
  {
   "cell_type": "markdown",
   "id": "64d5217c",
   "metadata": {},
   "source": [
    "Amount is right-skewed; log scale clarifies separation. Fraud transactions cluster in specific amount ranges. \n",
    "\n",
    "Time shows periodic pattern."
   ]
  },
  {
   "cell_type": "code",
   "execution_count": null,
   "id": "2bd486bf",
   "metadata": {},
   "outputs": [
    {
     "data": {
      "image/png": "[encoded data removed]",
      "text/plain": [
       "<Figure size 1000x800 with 1 Axes>"
      ]
     },
     "metadata": {},
     "output_type": "display_data"
    }
   ],
   "source": [
    "corr = df.drop(columns=['Class']).corr()\n",
    "plt.figure(figsize=(10,8))\n",
    "sns.heatmap(corr, cmap='coolwarm', center=0, cbar=False)\n",
    "plt.title('Feature Correlation Heatmap (Excluding Class)')\n",
    "plt.show()\n"
   ]
  },
  {
   "cell_type": "markdown",
   "id": "2fadd7d7",
   "metadata": {},
   "source": [
    "PCA-like transformed features (V) are mostly decorrelated\n",
    "\n",
    "i don't see any multi-colinearity risk\n",
    "\n",
    "so ek vaar try linear or logistic regression also"
   ]
  },
  {
   "cell_type": "code",
   "execution_count": 8,
   "id": "be3ea1da",
   "metadata": {},
   "outputs": [
    {
     "data": {
      "image/png": "[encoded data removed]",
      "text/plain": [
       "<Figure size 500x400 with 1 Axes>"
      ]
     },
     "metadata": {},
     "output_type": "display_data"
    },
    {
     "data": {
      "image/png": "[encoded data removed]",
      "text/plain": [
       "<Figure size 500x500 with 1 Axes>"
      ]
     },
     "metadata": {},
     "output_type": "display_data"
    }
   ],
   "source": [
    "# Class distribution plots\n",
    "if 'df' in globals():\n",
    "    class_counts = df['Class'].value_counts()\n",
    "    plt.figure(figsize=(5,4))\n",
    "    sns.barplot(x=class_counts.index, y=class_counts.values)\n",
    "    plt.title('Class Counts')\n",
    "    for i,v in enumerate(class_counts.values):\n",
    "        plt.text(i, v, f'{v}\\n({v/class_counts.sum():.3%})', ha='center', va='bottom')\n",
    "    plt.show()\n",
    "\n",
    "    plt.figure(figsize=(5,5))\n",
    "    plt.pie(class_counts.values, labels=[f'{c} ({class_counts[c]/class_counts.sum():.2%})' for c in class_counts.index], autopct='%1.2f%%')\n",
    "    plt.title('Class Distribution (Pie)')\n",
    "    plt.show()\n",
    "else:\n",
    "    print('DataFrame df not loaded.')"
   ]
  },
  {
   "cell_type": "markdown",
   "id": "4ff3508c",
   "metadata": {},
   "source": [
    "Fraudulent class (~0.17%) is extremely rare, underscoring need for recall-focused metrics and sampling strategies."
   ]
  },
  {
   "cell_type": "markdown",
   "id": "51beab57",
   "metadata": {},
   "source": [
    "## just an observation from EDA je nikde che is\n",
    "Models trained naively optimize overall accuracy—predicting all transactions as non-fraud yields >99% accuracy but 0 recall for fraud. This leads to high financial risk. Precision-Recall (especially PR-AUC) becomes more informative than ROC-AUC when positives are rare. Threshold tuning, cost-sensitive learning, and sampling are required."
   ]
  },
  {
   "cell_type": "code",
   "execution_count": null,
   "id": "553c09c0",
   "metadata": {},
   "outputs": [
    {
     "name": "stdout",
     "output_type": "stream",
     "text": [
      "Train shape: (227845, 30) Test shape: (56962, 30)\n",
      "Train class distribution:\n",
      " Class\n",
      "0    227451\n",
      "1       394\n",
      "Name: count, dtype: int64\n"
     ]
    }
   ],
   "source": [
    "# Stratified split\n",
    "X = df.drop(columns=['Class'])\n",
    "y = df['Class']\n",
    "X_train, X_test, y_train, y_test = train_test_split(\n",
    "    X, y, test_size=0.2, stratify=y, random_state=RANDOM_STATE)\n",
    "print('Train shape:', X_train.shape, 'Test shape:', X_test.shape)\n",
    "print('Train class distribution:\\n', y_train.value_counts())"
   ]
  },
  {
   "cell_type": "markdown",
   "id": "6a6f149c",
   "metadata": {},
   "source": [
    "Stratification preserves rare class proportion in both train and test, ensuring evaluation validity as subgroups bane and pachi ene equally divide kare randomly"
   ]
  },
  {
   "cell_type": "code",
   "execution_count": null,
   "id": "1e2bd88b",
   "metadata": {},
   "outputs": [
    {
     "data": {
      "text/html": [
       "<div>\n",
       "<style scoped>\n",
       "    .dataframe tbody tr th:only-of-type {\n",
       "        vertical-align: middle;\n",
       "    }\n",
       "\n",
       "    .dataframe tbody tr th {\n",
       "        vertical-align: top;\n",
       "    }\n",
       "\n",
       "    .dataframe thead th {\n",
       "        text-align: right;\n",
       "    }\n",
       "</style>\n",
       "<table border=\"1\" class=\"dataframe\">\n",
       "  <thead>\n",
       "    <tr style=\"text-align: right;\">\n",
       "      <th></th>\n",
       "      <th>model</th>\n",
       "      <th>precision</th>\n",
       "      <th>recall</th>\n",
       "      <th>f1</th>\n",
       "      <th>roc_auc</th>\n",
       "      <th>pr_auc</th>\n",
       "    </tr>\n",
       "  </thead>\n",
       "  <tbody>\n",
       "    <tr>\n",
       "      <th>0</th>\n",
       "      <td>LogReg</td>\n",
       "      <td>0.85000</td>\n",
       "      <td>0.693878</td>\n",
       "      <td>0.764045</td>\n",
       "      <td>0.949890</td>\n",
       "      <td>0.684772</td>\n",
       "    </tr>\n",
       "    <tr>\n",
       "      <th>1</th>\n",
       "      <td>LogReg_balanced</td>\n",
       "      <td>0.05566</td>\n",
       "      <td>0.908163</td>\n",
       "      <td>0.104891</td>\n",
       "      <td>0.973131</td>\n",
       "      <td>0.723919</td>\n",
       "    </tr>\n",
       "    <tr>\n",
       "      <th>2</th>\n",
       "      <td>RandomForest</td>\n",
       "      <td>0.94186</td>\n",
       "      <td>0.826531</td>\n",
       "      <td>0.880435</td>\n",
       "      <td>0.962348</td>\n",
       "      <td>0.873052</td>\n",
       "    </tr>\n",
       "  </tbody>\n",
       "</table>\n",
       "</div>"
      ],
      "text/plain": [
       "             model  precision    recall        f1   roc_auc    pr_auc\n",
       "0           LogReg    0.85000  0.693878  0.764045  0.949890  0.684772\n",
       "1  LogReg_balanced    0.05566  0.908163  0.104891  0.973131  0.723919\n",
       "2     RandomForest    0.94186  0.826531  0.880435  0.962348  0.873052"
      ]
     },
     "metadata": {},
     "output_type": "display_data"
    }
   ],
   "source": [
    "# no sampling par basic model evaluation\n",
    "def train_and_eval(model, X_tr, y_tr, X_te, y_te, label):\n",
    "    model.fit(X_tr, y_tr)\n",
    "    preds = model.predict(X_te)\n",
    "    proba = model.predict_proba(X_te)[:,1]\n",
    "    metrics = {\n",
    "        'model': label,\n",
    "        'precision': precision_score(y_te, preds, zero_division=0),\n",
    "        'recall': recall_score(y_te, preds, zero_division=0),\n",
    "        'f1': f1_score(y_te, preds, zero_division=0),\n",
    "        'roc_auc': roc_auc_score(y_te, proba),\n",
    "        'pr_auc': average_precision_score(y_te, proba)\n",
    "    }\n",
    "    return metrics, preds, proba\n",
    "\n",
    "baseline_results = []\n",
    "log_reg = LogisticRegression(max_iter=1000, n_jobs=None, random_state=RANDOM_STATE)\n",
    "log_bal = LogisticRegression(max_iter=1000, class_weight='balanced', random_state=RANDOM_STATE)\n",
    "rf = RandomForestClassifier(n_estimators=200, random_state=RANDOM_STATE, n_jobs=-1)\n",
    "\n",
    "for m, lbl in [(log_reg, 'LogReg'), (log_bal, 'LogReg_balanced'), (rf, 'RandomForest')]:\n",
    "    res, preds, proba = train_and_eval(m, X_train, y_train, X_test, y_test, lbl)\n",
    "    baseline_results.append(res)\n",
    "baseline_df = pd.DataFrame(baseline_results)\n",
    "display(baseline_df)"
   ]
  },
  {
   "cell_type": "markdown",
   "id": "0054d123",
   "metadata": {},
   "source": [
    "balanced class weights thi recall vaidhu but precision ghati gau so je predict kaira ke minority che ema thi bov ocha eva hata je minority ma hata pehla before doing this. RandomForest offer better recall but still limited without sampling.\n",
    "\n",
    "main vastu ke jetla minority che ema thi 0.05 % aj predict thai shakaya"
   ]
  },
  {
   "cell_type": "code",
   "execution_count": 11,
   "id": "cd45789b",
   "metadata": {},
   "outputs": [
    {
     "name": "stdout",
     "output_type": "stream",
     "text": [
      "RUS class counts:\n",
      " Class\n",
      "0    394\n",
      "1    394\n",
      "Name: count, dtype: int64\n"
     ]
    }
   ],
   "source": [
    "# Random Under-Sampling\n",
    "if 'X_train' in globals():\n",
    "    rus = RandomUnderSampler(random_state=RANDOM_STATE)\n",
    "    X_rus, y_rus = rus.fit_resample(X_train, y_train)\n",
    "    print('RUS class counts:\\n', y_rus.value_counts())\n",
    "else:\n",
    "    print('Train/test not prepared.')"
   ]
  },
  {
   "cell_type": "code",
   "execution_count": null,
   "id": "f65cf5a2",
   "metadata": {},
   "outputs": [
    {
     "data": {
      "text/html": [
       "<div>\n",
       "<style scoped>\n",
       "    .dataframe tbody tr th:only-of-type {\n",
       "        vertical-align: middle;\n",
       "    }\n",
       "\n",
       "    .dataframe tbody tr th {\n",
       "        vertical-align: top;\n",
       "    }\n",
       "\n",
       "    .dataframe thead th {\n",
       "        text-align: right;\n",
       "    }\n",
       "</style>\n",
       "<table border=\"1\" class=\"dataframe\">\n",
       "  <thead>\n",
       "    <tr style=\"text-align: right;\">\n",
       "      <th></th>\n",
       "      <th>model</th>\n",
       "      <th>precision</th>\n",
       "      <th>recall</th>\n",
       "      <th>f1</th>\n",
       "      <th>roc_auc</th>\n",
       "      <th>pr_auc</th>\n",
       "    </tr>\n",
       "  </thead>\n",
       "  <tbody>\n",
       "    <tr>\n",
       "      <th>0</th>\n",
       "      <td>LogReg_RUS</td>\n",
       "      <td>0.038462</td>\n",
       "      <td>0.918367</td>\n",
       "      <td>0.073831</td>\n",
       "      <td>0.974881</td>\n",
       "      <td>0.684377</td>\n",
       "    </tr>\n",
       "  </tbody>\n",
       "</table>\n",
       "</div>"
      ],
      "text/plain": [
       "        model  precision    recall        f1   roc_auc    pr_auc\n",
       "0  LogReg_RUS   0.038462  0.918367  0.073831  0.974881  0.684377"
      ]
     },
     "metadata": {},
     "output_type": "display_data"
    }
   ],
   "source": [
    "if 'X_rus' in globals():\n",
    "    rus_model = LogisticRegression(max_iter=1000, random_state=RANDOM_STATE)\n",
    "    rus_metrics, _, _ = train_and_eval(rus_model, X_rus, y_rus, X_test, y_test, 'LogReg_RUS')\n",
    "    display(pd.DataFrame([rus_metrics]))\n",
    "else:\n",
    "    print('RUS data not available.')"
   ]
  },
  {
   "cell_type": "markdown",
   "id": "30bf3a6b",
   "metadata": {},
   "source": [
    "bov samples lost so recall to vaidhu pan not f1"
   ]
  },
  {
   "cell_type": "code",
   "execution_count": 13,
   "id": "020ea023",
   "metadata": {},
   "outputs": [
    {
     "name": "stdout",
     "output_type": "stream",
     "text": [
      "ROS class counts:\n",
      " Class\n",
      "0    227451\n",
      "1    227451\n",
      "Name: count, dtype: int64\n"
     ]
    }
   ],
   "source": [
    "# Random Over-Sampling\n",
    "if 'X_train' in globals():\n",
    "    ros = RandomOverSampler(random_state=RANDOM_STATE)\n",
    "    X_ros, y_ros = ros.fit_resample(X_train, y_train)\n",
    "    print('ROS class counts:\\n', y_ros.value_counts())\n",
    "else:\n",
    "    print('Train/test not prepared.')"
   ]
  },
  {
   "cell_type": "code",
   "execution_count": null,
   "id": "6e32abd0",
   "metadata": {},
   "outputs": [
    {
     "data": {
      "text/html": [
       "<div>\n",
       "<style scoped>\n",
       "    .dataframe tbody tr th:only-of-type {\n",
       "        vertical-align: middle;\n",
       "    }\n",
       "\n",
       "    .dataframe tbody tr th {\n",
       "        vertical-align: top;\n",
       "    }\n",
       "\n",
       "    .dataframe thead th {\n",
       "        text-align: right;\n",
       "    }\n",
       "</style>\n",
       "<table border=\"1\" class=\"dataframe\">\n",
       "  <thead>\n",
       "    <tr style=\"text-align: right;\">\n",
       "      <th></th>\n",
       "      <th>model</th>\n",
       "      <th>precision</th>\n",
       "      <th>recall</th>\n",
       "      <th>f1</th>\n",
       "      <th>roc_auc</th>\n",
       "      <th>pr_auc</th>\n",
       "    </tr>\n",
       "  </thead>\n",
       "  <tbody>\n",
       "    <tr>\n",
       "      <th>0</th>\n",
       "      <td>LogReg_ROS</td>\n",
       "      <td>0.054348</td>\n",
       "      <td>0.918367</td>\n",
       "      <td>0.102623</td>\n",
       "      <td>0.972317</td>\n",
       "      <td>0.715124</td>\n",
       "    </tr>\n",
       "  </tbody>\n",
       "</table>\n",
       "</div>"
      ],
      "text/plain": [
       "        model  precision    recall        f1   roc_auc    pr_auc\n",
       "0  LogReg_ROS   0.054348  0.918367  0.102623  0.972317  0.715124"
      ]
     },
     "metadata": {},
     "output_type": "display_data"
    }
   ],
   "source": [
    "if 'X_ros' in globals():\n",
    "    ros_model = LogisticRegression(max_iter=1000, random_state=RANDOM_STATE)\n",
    "    ros_metrics, _, _ = train_and_eval(ros_model, X_ros, y_ros, X_test, y_test, 'LogReg_ROS')\n",
    "    display(pd.DataFrame([ros_metrics]))"
   ]
  },
  {
   "cell_type": "markdown",
   "id": "393eaa11",
   "metadata": {},
   "source": [
    "overfitting as duplicate minority samples"
   ]
  },
  {
   "cell_type": "code",
   "execution_count": null,
   "id": "d4fa741e",
   "metadata": {},
   "outputs": [
    {
     "name": "stdout",
     "output_type": "stream",
     "text": [
      "SMOTE CV PR-AUC mean: 0.7551681740381535\n"
     ]
    },
    {
     "data": {
      "text/html": [
       "<div>\n",
       "<style scoped>\n",
       "    .dataframe tbody tr th:only-of-type {\n",
       "        vertical-align: middle;\n",
       "    }\n",
       "\n",
       "    .dataframe tbody tr th {\n",
       "        vertical-align: top;\n",
       "    }\n",
       "\n",
       "    .dataframe thead th {\n",
       "        text-align: right;\n",
       "    }\n",
       "</style>\n",
       "<table border=\"1\" class=\"dataframe\">\n",
       "  <thead>\n",
       "    <tr style=\"text-align: right;\">\n",
       "      <th></th>\n",
       "      <th>model</th>\n",
       "      <th>precision</th>\n",
       "      <th>recall</th>\n",
       "      <th>f1</th>\n",
       "      <th>roc_auc</th>\n",
       "      <th>pr_auc</th>\n",
       "    </tr>\n",
       "  </thead>\n",
       "  <tbody>\n",
       "    <tr>\n",
       "      <th>0</th>\n",
       "      <td>LogReg_SMOTE</td>\n",
       "      <td>0.106538</td>\n",
       "      <td>0.897959</td>\n",
       "      <td>0.190476</td>\n",
       "      <td>0.975405</td>\n",
       "      <td>0.735695</td>\n",
       "    </tr>\n",
       "  </tbody>\n",
       "</table>\n",
       "</div>"
      ],
      "text/plain": [
       "          model  precision    recall        f1   roc_auc    pr_auc\n",
       "0  LogReg_SMOTE   0.106538  0.897959  0.190476  0.975405  0.735695"
      ]
     },
     "metadata": {},
     "output_type": "display_data"
    }
   ],
   "source": [
    "# SMOTE pipeline with Logistic Regression + CV\n",
    "if 'X_train' in globals():\n",
    "    smote = SMOTE(random_state=RANDOM_STATE)\n",
    "    smote_clf = ImbPipeline(steps=[('smote', smote), ('clf', LogisticRegression(max_iter=1000, random_state=RANDOM_STATE))])\n",
    "    cv = StratifiedKFold(n_splits=3, shuffle=True, random_state=RANDOM_STATE)\n",
    "    cv_scores = cross_val_score(smote_clf, X_train, y_train, scoring='average_precision', cv=cv, n_jobs=-1)\n",
    "    print('SMOTE CV PR-AUC mean:', cv_scores.mean())\n",
    "    smote_clf.fit(X_train, y_train)\n",
    "    smote_preds = smote_clf.predict(X_test)\n",
    "    smote_proba = smote_clf.predict_proba(X_test)[:,1]\n",
    "    smote_metrics = {\n",
    "        'model':'LogReg_SMOTE',\n",
    "        'precision': precision_score(y_test, smote_preds, zero_division=0),\n",
    "        'recall': recall_score(y_test, smote_preds, zero_division=0),\n",
    "        'f1': f1_score(y_test, smote_preds, zero_division=0),\n",
    "        'roc_auc': roc_auc_score(y_test, smote_proba),\n",
    "        'pr_auc': average_precision_score(y_test, smote_proba)\n",
    "    }\n",
    "    display(pd.DataFrame([smote_metrics]))"
   ]
  },
  {
   "cell_type": "markdown",
   "id": "4a77b2dd",
   "metadata": {},
   "source": [
    "better at not overfitting and not underfitting also but still not the best one as data points true nature nahi represent karta data nu"
   ]
  },
  {
   "cell_type": "code",
   "execution_count": null,
   "id": "db542409",
   "metadata": {},
   "outputs": [
    {
     "data": {
      "text/html": [
       "<div>\n",
       "<style scoped>\n",
       "    .dataframe tbody tr th:only-of-type {\n",
       "        vertical-align: middle;\n",
       "    }\n",
       "\n",
       "    .dataframe tbody tr th {\n",
       "        vertical-align: top;\n",
       "    }\n",
       "\n",
       "    .dataframe thead th {\n",
       "        text-align: right;\n",
       "    }\n",
       "</style>\n",
       "<table border=\"1\" class=\"dataframe\">\n",
       "  <thead>\n",
       "    <tr style=\"text-align: right;\">\n",
       "      <th></th>\n",
       "      <th>model</th>\n",
       "      <th>precision</th>\n",
       "      <th>recall</th>\n",
       "      <th>f1</th>\n",
       "      <th>roc_auc</th>\n",
       "      <th>pr_auc</th>\n",
       "    </tr>\n",
       "  </thead>\n",
       "  <tbody>\n",
       "    <tr>\n",
       "      <th>2</th>\n",
       "      <td>RandomForest</td>\n",
       "      <td>0.941860</td>\n",
       "      <td>0.826531</td>\n",
       "      <td>0.880435</td>\n",
       "      <td>0.962348</td>\n",
       "      <td>0.873052</td>\n",
       "    </tr>\n",
       "    <tr>\n",
       "      <th>5</th>\n",
       "      <td>LogReg_SMOTE</td>\n",
       "      <td>0.106538</td>\n",
       "      <td>0.897959</td>\n",
       "      <td>0.190476</td>\n",
       "      <td>0.975405</td>\n",
       "      <td>0.735695</td>\n",
       "    </tr>\n",
       "    <tr>\n",
       "      <th>1</th>\n",
       "      <td>LogReg_balanced</td>\n",
       "      <td>0.055660</td>\n",
       "      <td>0.908163</td>\n",
       "      <td>0.104891</td>\n",
       "      <td>0.973131</td>\n",
       "      <td>0.723919</td>\n",
       "    </tr>\n",
       "    <tr>\n",
       "      <th>4</th>\n",
       "      <td>LogReg_ROS</td>\n",
       "      <td>0.054348</td>\n",
       "      <td>0.918367</td>\n",
       "      <td>0.102623</td>\n",
       "      <td>0.972317</td>\n",
       "      <td>0.715124</td>\n",
       "    </tr>\n",
       "    <tr>\n",
       "      <th>0</th>\n",
       "      <td>LogReg</td>\n",
       "      <td>0.850000</td>\n",
       "      <td>0.693878</td>\n",
       "      <td>0.764045</td>\n",
       "      <td>0.949890</td>\n",
       "      <td>0.684772</td>\n",
       "    </tr>\n",
       "    <tr>\n",
       "      <th>3</th>\n",
       "      <td>LogReg_RUS</td>\n",
       "      <td>0.038462</td>\n",
       "      <td>0.918367</td>\n",
       "      <td>0.073831</td>\n",
       "      <td>0.974881</td>\n",
       "      <td>0.684377</td>\n",
       "    </tr>\n",
       "  </tbody>\n",
       "</table>\n",
       "</div>"
      ],
      "text/plain": [
       "             model  precision    recall        f1   roc_auc    pr_auc\n",
       "2     RandomForest   0.941860  0.826531  0.880435  0.962348  0.873052\n",
       "5     LogReg_SMOTE   0.106538  0.897959  0.190476  0.975405  0.735695\n",
       "1  LogReg_balanced   0.055660  0.908163  0.104891  0.973131  0.723919\n",
       "4       LogReg_ROS   0.054348  0.918367  0.102623  0.972317  0.715124\n",
       "0           LogReg   0.850000  0.693878  0.764045  0.949890  0.684772\n",
       "3       LogReg_RUS   0.038462  0.918367  0.073831  0.974881  0.684377"
      ]
     },
     "metadata": {},
     "output_type": "display_data"
    },
    {
     "name": "stdout",
     "output_type": "stream",
     "text": [
      "Metrics aggregation complete.\n"
     ]
    }
   ],
   "source": [
    "metrics_list = []\n",
    "if 'baseline_df' in globals():\n",
    "    metrics_list.extend(baseline_df.to_dict('records'))\n",
    "if 'rus_metrics' in globals():\n",
    "    metrics_list.append(rus_metrics)\n",
    "if 'ros_metrics' in globals():\n",
    "    metrics_list.append(ros_metrics)\n",
    "if 'smote_metrics' in globals():\n",
    "    metrics_list.append(smote_metrics)\n",
    "\n",
    "metrics_df = pd.DataFrame(metrics_list)\n",
    "display(metrics_df.sort_values('pr_auc', ascending=False))\n",
    "print('Metrics aggregation complete.')"
   ]
  },
  {
   "cell_type": "markdown",
   "id": "879fdfb3",
   "metadata": {},
   "source": [
    "in this task we need high recall and acceptable F1 so best model according to me is random forest ofc but LogReg Smote"
   ]
  },
  {
   "cell_type": "code",
   "execution_count": null,
   "id": "d48a8345",
   "metadata": {},
   "outputs": [
    {
     "data": {
      "image/png": "[encoded data removed]",
      "text/plain": [
       "<Figure size 600x400 with 1 Axes>"
      ]
     },
     "metadata": {},
     "output_type": "display_data"
    },
    {
     "data": {
      "image/png": "[encoded data removed]",
      "text/plain": [
       "<Figure size 600x400 with 1 Axes>"
      ]
     },
     "metadata": {},
     "output_type": "display_data"
    }
   ],
   "source": [
    "# Feature importance / coefficients\n",
    "coef_series = pd.Series(log_bal.coef_[0], index=X_train.columns).abs().sort_values(ascending=False).head(15)\n",
    "plt.figure(figsize=(6,4))\n",
    "sns.barplot(x=coef_series.values, y=coef_series.index)\n",
    "plt.title('Top Logistic Coefficients (Abs)')\n",
    "plt.show()\n",
    "imp_series = pd.Series(rf.feature_importances_, index=X_train.columns).sort_values(ascending=False).head(15)\n",
    "plt.figure(figsize=(6,4))\n",
    "sns.barplot(x=imp_series.values, y=imp_series.index)\n",
    "plt.title('Top RandomForest Importances')\n",
    "plt.show()"
   ]
  },
  {
   "cell_type": "markdown",
   "id": "c32946f9",
   "metadata": {},
   "source": [
    "Features with largest absolute coefficients or Gini importance contribute most to discrimination\n",
    "so V14 nu variance max hase"
   ]
  },
  {
   "cell_type": "markdown",
   "id": "5e42731f",
   "metadata": {},
   "source": [
    "random forest etle j aatlu mast perform kare che as it gives importance to V14"
   ]
  },
  {
   "cell_type": "code",
   "execution_count": null,
   "id": "8a592fee",
   "metadata": {},
   "outputs": [
    {
     "data": {
      "text/html": [
       "<div>\n",
       "<style scoped>\n",
       "    .dataframe tbody tr th:only-of-type {\n",
       "        vertical-align: middle;\n",
       "    }\n",
       "\n",
       "    .dataframe tbody tr th {\n",
       "        vertical-align: top;\n",
       "    }\n",
       "\n",
       "    .dataframe thead th {\n",
       "        text-align: right;\n",
       "    }\n",
       "</style>\n",
       "<table border=\"1\" class=\"dataframe\">\n",
       "  <thead>\n",
       "    <tr style=\"text-align: right;\">\n",
       "      <th></th>\n",
       "      <th>feature</th>\n",
       "      <th>p_value</th>\n",
       "    </tr>\n",
       "  </thead>\n",
       "  <tbody>\n",
       "    <tr>\n",
       "      <th>14</th>\n",
       "      <td>V14</td>\n",
       "      <td>1.471581e-260</td>\n",
       "    </tr>\n",
       "    <tr>\n",
       "      <th>4</th>\n",
       "      <td>V4</td>\n",
       "      <td>3.625904e-248</td>\n",
       "    </tr>\n",
       "    <tr>\n",
       "      <th>12</th>\n",
       "      <td>V12</td>\n",
       "      <td>8.416027e-247</td>\n",
       "    </tr>\n",
       "    <tr>\n",
       "      <th>11</th>\n",
       "      <td>V11</td>\n",
       "      <td>4.910592e-226</td>\n",
       "    </tr>\n",
       "    <tr>\n",
       "      <th>10</th>\n",
       "      <td>V10</td>\n",
       "      <td>9.611131e-222</td>\n",
       "    </tr>\n",
       "  </tbody>\n",
       "</table>\n",
       "</div>"
      ],
      "text/plain": [
       "   feature        p_value\n",
       "14     V14  1.471581e-260\n",
       "4       V4  3.625904e-248\n",
       "12     V12  8.416027e-247\n",
       "11     V11  4.910592e-226\n",
       "10     V10  9.611131e-222"
      ]
     },
     "metadata": {},
     "output_type": "display_data"
    },
    {
     "data": {
      "text/html": [
       "<div>\n",
       "<style scoped>\n",
       "    .dataframe tbody tr th:only-of-type {\n",
       "        vertical-align: middle;\n",
       "    }\n",
       "\n",
       "    .dataframe tbody tr th {\n",
       "        vertical-align: top;\n",
       "    }\n",
       "\n",
       "    .dataframe thead th {\n",
       "        text-align: right;\n",
       "    }\n",
       "</style>\n",
       "<table border=\"1\" class=\"dataframe\">\n",
       "  <thead>\n",
       "    <tr style=\"text-align: right;\">\n",
       "      <th></th>\n",
       "      <th>feature</th>\n",
       "      <th>p_value</th>\n",
       "      <th>q_value</th>\n",
       "      <th>rejected</th>\n",
       "    </tr>\n",
       "  </thead>\n",
       "  <tbody>\n",
       "    <tr>\n",
       "      <th>14</th>\n",
       "      <td>V14</td>\n",
       "      <td>1.471581e-260</td>\n",
       "      <td>4.414742e-259</td>\n",
       "      <td>True</td>\n",
       "    </tr>\n",
       "    <tr>\n",
       "      <th>4</th>\n",
       "      <td>V4</td>\n",
       "      <td>3.625904e-248</td>\n",
       "      <td>5.438857e-247</td>\n",
       "      <td>True</td>\n",
       "    </tr>\n",
       "    <tr>\n",
       "      <th>12</th>\n",
       "      <td>V12</td>\n",
       "      <td>8.416027e-247</td>\n",
       "      <td>8.416027e-246</td>\n",
       "      <td>True</td>\n",
       "    </tr>\n",
       "    <tr>\n",
       "      <th>11</th>\n",
       "      <td>V11</td>\n",
       "      <td>4.910592e-226</td>\n",
       "      <td>3.682944e-225</td>\n",
       "      <td>True</td>\n",
       "    </tr>\n",
       "    <tr>\n",
       "      <th>10</th>\n",
       "      <td>V10</td>\n",
       "      <td>9.611131e-222</td>\n",
       "      <td>5.766679e-221</td>\n",
       "      <td>True</td>\n",
       "    </tr>\n",
       "  </tbody>\n",
       "</table>\n",
       "</div>"
      ],
      "text/plain": [
       "   feature        p_value        q_value  rejected\n",
       "14     V14  1.471581e-260  4.414742e-259      True\n",
       "4       V4  3.625904e-248  5.438857e-247      True\n",
       "12     V12  8.416027e-247  8.416027e-246      True\n",
       "11     V11  4.910592e-226  3.682944e-225      True\n",
       "10     V10  9.611131e-222  5.766679e-221      True"
      ]
     },
     "metadata": {},
     "output_type": "display_data"
    },
    {
     "name": "stdout",
     "output_type": "stream",
     "text": [
      "Significant features (q<0.05): 27 of 30\n"
     ]
    }
   ],
   "source": [
    "# Hypothesis testing (Mann-Whitney U) per feature\n",
    "fraud = df[df['Class']==1]\n",
    "non_fraud = df[df['Class']==0]\n",
    "pvals = {}\n",
    "feature_cols = [c for c in df.columns if c != 'Class']\n",
    "for col in feature_cols:\n",
    "    stat, p = mannwhitneyu(fraud[col], non_fraud[col], alternative='two-sided')\n",
    "    pvals[col] = p\n",
    "pval_df = pd.DataFrame({'feature': list(pvals.keys()), 'p_value': list(pvals.values())})\n",
    "pval_df.sort_values('p_value', inplace=True)\n",
    "display(pval_df.head())\n",
    "\n",
    "# Multiple testing correction (FDR Benjamini-Hochberg)\n",
    "rejected, qvals, _, _ = multipletests(pval_df['p_value'], alpha=0.05, method='fdr_bh')\n",
    "pval_df['q_value'] = qvals\n",
    "pval_df['rejected'] = rejected\n",
    "significant = pval_df[pval_df['rejected']]\n",
    "display(significant.head())\n",
    "print(f'Significant features (q<0.05): {significant.shape[0]} of {len(feature_cols)}')"
   ]
  },
  {
   "cell_type": "markdown",
   "id": "ef55d803",
   "metadata": {},
   "source": [
    "Mann-Whitney U identifies distributional shifts between fraud and non-fraud. FDR controls false discoveries across many tests, retained features show statistically significant difference."
   ]
  },
  {
   "cell_type": "code",
   "execution_count": 19,
   "id": "7455049d",
   "metadata": {},
   "outputs": [
    {
     "name": "stdout",
     "output_type": "stream",
     "text": [
      "Reduced feature metrics:\n"
     ]
    },
    {
     "data": {
      "text/html": [
       "<div>\n",
       "<style scoped>\n",
       "    .dataframe tbody tr th:only-of-type {\n",
       "        vertical-align: middle;\n",
       "    }\n",
       "\n",
       "    .dataframe tbody tr th {\n",
       "        vertical-align: top;\n",
       "    }\n",
       "\n",
       "    .dataframe thead th {\n",
       "        text-align: right;\n",
       "    }\n",
       "</style>\n",
       "<table border=\"1\" class=\"dataframe\">\n",
       "  <thead>\n",
       "    <tr style=\"text-align: right;\">\n",
       "      <th></th>\n",
       "      <th>model</th>\n",
       "      <th>precision</th>\n",
       "      <th>recall</th>\n",
       "      <th>f1</th>\n",
       "      <th>roc_auc</th>\n",
       "      <th>pr_auc</th>\n",
       "    </tr>\n",
       "  </thead>\n",
       "  <tbody>\n",
       "    <tr>\n",
       "      <th>0</th>\n",
       "      <td>SMOTE_LogReg_Selected</td>\n",
       "      <td>0.132159</td>\n",
       "      <td>0.918367</td>\n",
       "      <td>0.231065</td>\n",
       "      <td>0.977758</td>\n",
       "      <td>0.728711</td>\n",
       "    </tr>\n",
       "  </tbody>\n",
       "</table>\n",
       "</div>"
      ],
      "text/plain": [
       "                   model  precision    recall        f1   roc_auc    pr_auc\n",
       "0  SMOTE_LogReg_Selected   0.132159  0.918367  0.231065  0.977758  0.728711"
      ]
     },
     "metadata": {},
     "output_type": "display_data"
    }
   ],
   "source": [
    "# Retrain using selected (significant) features and compare\n",
    "if 'significant' in globals():\n",
    "    selected_features = significant['feature'].tolist()\n",
    "    X_train_sel = X_train[selected_features]\n",
    "    X_test_sel = X_test[selected_features]\n",
    "\n",
    "    best_pipeline = ImbPipeline(steps=[('smote', SMOTE(random_state=RANDOM_STATE)),\n",
    "                                       ('clf', LogisticRegression(max_iter=1000, random_state=RANDOM_STATE))])\n",
    "    best_pipeline.fit(X_train_sel, y_train)\n",
    "    sel_preds = best_pipeline.predict(X_test_sel)\n",
    "    sel_proba = best_pipeline.predict_proba(X_test_sel)[:,1]\n",
    "    reduced_metrics = {\n",
    "        'model':'SMOTE_LogReg_Selected',\n",
    "        'precision': precision_score(y_test, sel_preds, zero_division=0),\n",
    "        'recall': recall_score(y_test, sel_preds, zero_division=0),\n",
    "        'f1': f1_score(y_test, sel_preds, zero_division=0),\n",
    "        'roc_auc': roc_auc_score(y_test, sel_proba),\n",
    "        'pr_auc': average_precision_score(y_test, sel_proba)\n",
    "    }\n",
    "    print('Reduced feature metrics:')\n",
    "    display(pd.DataFrame([reduced_metrics]))\n",
    "else:\n",
    "    print('Significant features not computed.')"
   ]
  },
  {
   "cell_type": "code",
   "execution_count": 20,
   "id": "15701b2a",
   "metadata": {},
   "outputs": [
    {
     "data": {
      "text/html": [
       "<div>\n",
       "<style scoped>\n",
       "    .dataframe tbody tr th:only-of-type {\n",
       "        vertical-align: middle;\n",
       "    }\n",
       "\n",
       "    .dataframe tbody tr th {\n",
       "        vertical-align: top;\n",
       "    }\n",
       "\n",
       "    .dataframe thead th {\n",
       "        text-align: right;\n",
       "    }\n",
       "</style>\n",
       "<table border=\"1\" class=\"dataframe\">\n",
       "  <thead>\n",
       "    <tr style=\"text-align: right;\">\n",
       "      <th></th>\n",
       "      <th>model</th>\n",
       "      <th>precision</th>\n",
       "      <th>recall</th>\n",
       "      <th>f1</th>\n",
       "      <th>roc_auc</th>\n",
       "      <th>pr_auc</th>\n",
       "    </tr>\n",
       "  </thead>\n",
       "  <tbody>\n",
       "    <tr>\n",
       "      <th>0</th>\n",
       "      <td>LogReg_SMOTE</td>\n",
       "      <td>0.106538</td>\n",
       "      <td>0.897959</td>\n",
       "      <td>0.190476</td>\n",
       "      <td>0.975405</td>\n",
       "      <td>0.735695</td>\n",
       "    </tr>\n",
       "    <tr>\n",
       "      <th>1</th>\n",
       "      <td>SMOTE_LogReg_Selected</td>\n",
       "      <td>0.132159</td>\n",
       "      <td>0.918367</td>\n",
       "      <td>0.231065</td>\n",
       "      <td>0.977758</td>\n",
       "      <td>0.728711</td>\n",
       "    </tr>\n",
       "  </tbody>\n",
       "</table>\n",
       "</div>"
      ],
      "text/plain": [
       "                   model  precision    recall        f1   roc_auc    pr_auc\n",
       "0           LogReg_SMOTE   0.106538  0.897959  0.190476  0.975405  0.735695\n",
       "1  SMOTE_LogReg_Selected   0.132159  0.918367  0.231065  0.977758  0.728711"
      ]
     },
     "metadata": {},
     "output_type": "display_data"
    },
    {
     "name": "stdout",
     "output_type": "stream",
     "text": [
      "Artifacts saved.\n"
     ]
    }
   ],
   "source": [
    "# Evaluate reduced vs full (SMOTE full already computed in smote_metrics)\n",
    "comparison = []\n",
    "if 'smote_metrics' in globals():\n",
    "    comparison.append(smote_metrics)\n",
    "if 'reduced_metrics' in globals():\n",
    "    comparison.append(reduced_metrics)\n",
    "if comparison:\n",
    "    comp_df = pd.DataFrame(comparison)\n",
    "    display(comp_df)\n",
    "\n",
    "# Persist artifacts\n",
    "if 'best_pipeline' in globals():\n",
    "    joblib.dump(best_pipeline, 'final_smote_logreg_pipeline.joblib')\n",
    "    if 'metrics_df' in globals():\n",
    "        metrics_df.to_csv('all_model_metrics.csv', index=False)\n",
    "    if 'selected_features' in globals():\n",
    "        with open('selected_features.json','w') as f:\n",
    "            json.dump(selected_features, f)\n",
    "    print('Artifacts saved.')"
   ]
  },
  {
   "cell_type": "markdown",
   "id": "c21e8df3",
   "metadata": {},
   "source": [
    "### Best Sampling Strategy\n",
    "SMOTE and class_weight balanced logistic yields better recall/PR-AUC without discarding data. Under-sampling fastest but loses information.\n",
    "\n",
    "### Metrics for Fraud Detection\n",
    "Recall (catch fraud) and Precision (limit false alarms) balance via F1;, PR-AUC robust to imbalance, ROC-AUC appears deceptively high. \n",
    "\n",
    "### Hypothesis Testing Role\n",
    "Non-parametric tests identify features with statistically different distributions, enabling dimensionality reduction before modeling, reducing noise and variance especially critical under severe imbalance."
   ]
  }
 ],
 "metadata": {
  "kernelspec": {
   "display_name": "ai-gpu",
   "language": "python",
   "name": "python3"
  },
  "language_info": {
   "codemirror_mode": {
    "name": "ipython",
    "version": 3
   },
   "file_extension": ".py",
   "mimetype": "text/x-python",
   "name": "python",
   "nbconvert_exporter": "python",
   "pygments_lexer": "ipython3",
   "version": "3.9.21"
  }
 },
 "nbformat": 4,
 "nbformat_minor": 5
}
